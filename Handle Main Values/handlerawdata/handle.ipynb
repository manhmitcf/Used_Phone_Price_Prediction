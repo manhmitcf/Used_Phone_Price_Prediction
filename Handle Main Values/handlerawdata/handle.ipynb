{
 "cells": [
  {
   "cell_type": "code",
   "execution_count": 112,
   "metadata": {},
   "outputs": [],
   "source": [
    "import re\n",
    "import pandas as pd\n",
    "\n",
    "\n"
   ]
  },
  {
   "cell_type": "code",
   "execution_count": 113,
   "metadata": {},
   "outputs": [],
   "source": [
    "# Load the CSV file\n",
    "file_path = 'filename.csv'  # Thay đường dẫn với đường dẫn file CSV của bạn\n",
    "df_input = pd.read_csv(file_path)\n",
    "\n"
   ]
  },
  {
   "cell_type": "code",
   "execution_count": 114,
   "metadata": {},
   "outputs": [],
   "source": [
    "\n",
    "# Function to extract phone details\n",
    "def extract_phone_details(item):\n",
    "    # Loại bỏ bất kỳ phần nào nằm trong dấu ngoặc đơn\n",
    "    item = re.sub(r\"\\(.*?\\)\", \"\", item).strip()\n",
    "\n",
    "    # Extract core phone name (ignoring storage, condition, and connection types like 4G, Wifi, etc.)\n",
    "    name = re.search(r\"^(.*?)(\\d+GB|\\d+TB|\\s\\d+G|\\s\\d+GB|cũ|mới|chính hãng|\\d{2}%)\", item, re.IGNORECASE)\n",
    "    name = name.group(1).strip() if name else item\n",
    "\n",
    "    condition = re.search(r\"(Cũ.*|Mới.*)\", item, re.IGNORECASE)\n",
    "    if condition:\n",
    "        condition = condition.group(0).strip()\n",
    "    else:\n",
    "        # If no \"Cũ\" or \"Mới\", extract everything after \"-\"\n",
    "        condition = re.search(r\"-\\s*(.*)\", item)\n",
    "        condition = condition.group(1).strip() if condition else None\n",
    "\n",
    "\n",
    "    return name, condition\n",
    "\n",
    "\n"
   ]
  },
  {
   "cell_type": "code",
   "execution_count": 116,
   "metadata": {},
   "outputs": [],
   "source": [
    "# Loop through each item in the 'Tên sản phẩm' column and extract details\n",
    "# Create empty lists to store separated data\n",
    "phone_names = []\n",
    "conditions = []\n",
    "for item in df_input['Tên sản phẩm']:\n",
    "    name, condition = extract_phone_details(item)\n",
    "    phone_names.append(name)\n",
    "    conditions.append(condition)\n",
    "\n",
    "\n",
    "\n",
    "df_output = pd.DataFrame({\n",
    "    'brand':df_input['Thương hiệu'],\n",
    "    'phone_name': phone_names,\n",
    "    'condition1': conditions,\n",
    "    'condition5':df_input['Tình trạng SP'],\n",
    "    'condition3':df_input['Tình trạng sản phẩm'],\n",
    "    'condition4':df_input['Tình trạng máy'],\n",
    "    'oldprice':df_input['Giá bán cũ'],\n",
    "    'newprice':df_input['Giá mới'],\n",
    "    'ram':df_input['RAM'],\n",
    "    'rom':df_input['Bộ nhớ trong'] \n",
    "})\n",
    "def merge_conditions(row):\n",
    "    conditions = [str(row[col]) for col in ['condition5', 'condition3', 'condition4'] if pd.notna(row[col])]\n",
    "    return ', '.join(conditions) if conditions else None\n",
    "\n",
    "# Áp dụng hàm để tạo cột condition mới\n",
    "df_output['condition2'] = df_output.apply(merge_conditions, axis=1)\n",
    "\n",
    "# Xóa các cột cũ sau khi hợp nhất\n",
    "df_output.drop(['condition5', 'condition3', 'condition4'], axis=1, inplace=True)"
   ]
  },
  {
   "cell_type": "code",
   "execution_count": 117,
   "metadata": {},
   "outputs": [
    {
     "name": "stdout",
     "output_type": "stream",
     "text": [
      "Updated file saved at: clickclean.csv\n"
     ]
    }
   ],
   "source": [
    "\n",
    "\n",
    "# Save the modified dataframe back to CSV\n",
    "output_file_path = 'newfilename.csv'  # Đặt tên file mà bạn muốn lưu\n",
    "df_output.to_csv(output_file_path, index=False,encoding='utf-8')\n",
    "print(f'Updated file saved at: {output_file_path}')"
   ]
  }
 ],
 "metadata": {
  "kernelspec": {
   "display_name": "base",
   "language": "python",
   "name": "python3"
  },
  "language_info": {
   "codemirror_mode": {
    "name": "ipython",
    "version": 3
   },
   "file_extension": ".py",
   "mimetype": "text/x-python",
   "name": "python",
   "nbconvert_exporter": "python",
   "pygments_lexer": "ipython3",
   "version": "3.11.5"
  }
 },
 "nbformat": 4,
 "nbformat_minor": 2
}
