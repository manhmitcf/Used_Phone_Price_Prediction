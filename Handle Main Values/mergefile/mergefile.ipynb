{
 "cells": [
  {
   "cell_type": "code",
   "execution_count": 95,
   "metadata": {},
   "outputs": [],
   "source": [
    "import re\n",
    "import pandas as pd\n",
    "\n",
    "\n"
   ]
  },
  {
   "cell_type": "code",
   "execution_count": 103,
   "metadata": {},
   "outputs": [
    {
     "name": "stdout",
     "output_type": "stream",
     "text": [
      "  brand              phone_name    condition1 condition2     oldprice  \\\n",
      "0   NaN       iPhone 14 Pro Max  Cũ Trầy Xước        NaN  21.590.000đ   \n",
      "1   NaN  Samsung Galaxy Z Fold5  Đã Kích Hoạt        NaN  23.290.000đ   \n",
      "2   NaN  Samsung Galaxy Z Flip5  Đã Kích Hoạt        NaN  12.590.000đ   \n",
      "3   NaN       iPhone 15 Pro Max        Cũ Đẹp        NaN  26.690.000đ   \n",
      "4   NaN       iPhone 14 Pro Max        Cũ Đẹp        NaN  22.590.000đ   \n",
      "\n",
      "      newprice release    ram     rom  \n",
      "0  29.990.000đ     NaN   6 GB  128 GB  \n",
      "1  40.990.000đ     NaN  12 GB  256 GB  \n",
      "2  25.990.000đ     NaN   8 GB  256 GB  \n",
      "3  34.990.000đ     NaN    NaN  256 GB  \n",
      "4  29.990.000đ     NaN   6 GB  128 GB  \n"
     ]
    }
   ],
   "source": [
    "\n",
    "# Đường dẫn tới các file CSV\n",
    "\n",
    "file_path1 =  'cellphonesclean.csv'\n",
    "file_path2 = 'clickclean.csv'\n",
    "file_path3  ='dienthoaivuiclean.csv'\n",
    "file_path4  ='fptclean.csv'\n",
    "df1 = pd.read_csv(file_path1)\n",
    "df2=pd.read_csv(file_path2)\n",
    "df3=pd.read_csv(file_path3)\n",
    "df4=pd.read_csv(file_path4)\n",
    "# Đọc các file CSV vào danh sách các DataFrames\n",
    "\n",
    "# Nối tất cả các DataFrames lại với nhau theo cột (axis=1)\n",
    "merged_df = pd.concat([df1, df2,df3,df4], axis=0, ignore_index=True)\n",
    "\n",
    "# Sắp xếp lại các cột theo thứ tự mong muốn (giả sử các cột này có trong các DataFrames)\n",
    "columns_order = ['brand', 'phone_name', 'condition1', 'condition2','oldprice','newprice', 'release', 'ram', 'rom']\n",
    "merged_df = merged_df[columns_order]\n",
    "\n",
    "# Hiển thị DataFrame đã nối và sắp xếp lại các cột\n",
    "print(merged_df.head())\n",
    "\n",
    "# Lưu DataFrame đã nối và sắp xếp vào một file CSV mới\n",
    "merged_df.to_csv('afterhandle.csv', index=False)\n"
   ]
  }
 ],
 "metadata": {
  "kernelspec": {
   "display_name": "base",
   "language": "python",
   "name": "python3"
  },
  "language_info": {
   "codemirror_mode": {
    "name": "ipython",
    "version": 3
   },
   "file_extension": ".py",
   "mimetype": "text/x-python",
   "name": "python",
   "nbconvert_exporter": "python",
   "pygments_lexer": "ipython3",
   "version": "3.11.5"
  }
 },
 "nbformat": 4,
 "nbformat_minor": 2
}
