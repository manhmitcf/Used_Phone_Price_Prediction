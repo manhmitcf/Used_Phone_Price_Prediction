{
 "cells": [
  {
   "cell_type": "code",
   "execution_count": 7,
   "metadata": {},
   "outputs": [
    {
     "name": "stdout",
     "output_type": "stream",
     "text": [
      "Data saved to brands_data.csv\n"
     ]
    }
   ],
   "source": [
    "import requests\n",
    "from bs4 import BeautifulSoup\n",
    "import csv\n",
    "\n",
    "# URL của trang chứa danh sách các brand\n",
    "url = \"https://m.gsmarena.com/makers.php3\"\n",
    "\n",
    "# Gửi yêu cầu GET để lấy HTML của trang\n",
    "response = requests.get(url)\n",
    "response.raise_for_status()  # Kiểm tra nếu yêu cầu thất bại\n",
    "\n",
    "# Phân tích cú pháp HTML của trang\n",
    "soup = BeautifulSoup(response.content, 'html.parser')\n",
    "\n",
    "# Tìm phần tử chứa danh sách các brand\n",
    "brands_list = soup.find('div', {'class': 'general-menu material-card'})\n",
    "\n",
    "# Tạo danh sách để lưu thông tin các brand\n",
    "brands_data = []\n",
    "\n",
    "# Duyệt qua các thẻ <li> để lấy tên và liên kết\n",
    "for li in brands_list.find_all('li'):\n",
    "    brand_name = li.find('a').text.strip()\n",
    "    brand_link = li.find('a')['href']\n",
    "    full_link = f\"https://www.gsmarena.com/{brand_link}\"\n",
    "    brands_data.append([brand_name, full_link])\n",
    "\n",
    "# Tạo file CSV và ghi thông tin vào\n",
    "csv_file = 'brands_data.csv'\n",
    "with open(csv_file, mode='w', newline='', encoding='utf-8') as file:\n",
    "    writer = csv.writer(file)\n",
    "    writer.writerow(['Brand', 'Link'])  # Ghi tiêu đề\n",
    "    writer.writerows(brands_data)  # Ghi dữ liệu\n",
    "\n",
    "print(f\"Data saved to {csv_file}\")"
   ]
  },
  {
   "cell_type": "code",
   "execution_count": 8,
   "metadata": {},
   "outputs": [
    {
     "name": "stdout",
     "output_type": "stream",
     "text": [
      "<div class=\"general-menu material-card\" id=\"list-brands\">\n",
      "<li><a href=\"acer-phones-59.php\"><strong>Acer</strong></a></li><li><a href=\"alcatel-phones-5.php\"><strong>alcatel</strong></a></li><li><a href=\"allview-phones-88.php\"><strong>Allview</strong></a></li><li><a href=\"amazon-phones-76.php\"><strong>Amazon</strong></a></li><li><a href=\"amoi-phones-28.php\"><strong>Amoi</strong></a></li><li><a href=\"apple-phones-48.php\"><strong>Apple</strong></a></li><li><a href=\"archos-phones-90.php\"><strong>Archos</strong></a></li><li><a href=\"asus-phones-46.php\"><strong>Asus</strong></a></li><li><a href=\"at&amp;t-phones-57.php\"><strong>AT&amp;T</strong></a></li><li><a href=\"benefon-phones-15.php\"><strong>Benefon</strong></a></li><li><a href=\"benq-phones-31.php\"><strong>BenQ</strong></a></li><li><a href=\"benq_siemens-phones-42.php\"><strong>BenQ-Siemens</strong></a></li><li><a href=\"bird-phones-34.php\"><strong>Bird</strong></a></li><li><a href=\"blackberry-phones-36.php\"><strong>BlackBerry</strong></a></li><li><a href=\"blackview-phones-116.php\"><strong>Blackview</strong></a></li><li><a href=\"blu-phones-67.php\"><strong>BLU</strong></a></li><li><a href=\"bosch-phones-10.php\"><strong>Bosch</strong></a></li><li><a href=\"bq-phones-108.php\"><strong>BQ</strong></a></li><li><a href=\"casio-phones-77.php\"><strong>Casio</strong></a></li><li><a href=\"cat-phones-89.php\"><strong>Cat</strong></a></li><li><a href=\"celkon-phones-75.php\"><strong>Celkon</strong></a></li><li><a href=\"chea-phones-24.php\"><strong>Chea</strong></a></li><li><a href=\"coolpad-phones-105.php\"><strong>Coolpad</strong></a></li><li><a href=\"cubot-phones-130.php\"><strong>Cubot</strong></a></li><li><a href=\"dell-phones-61.php\"><strong>Dell</strong></a></li><li><a href=\"doogee-phones-129.php\"><strong>Doogee</strong></a></li><li><a href=\"emporia-phones-93.php\"><strong>Emporia</strong></a></li><li><a href=\"energizer-phones-106.php\"><strong>Energizer</strong></a></li><li><a href=\"ericsson-phones-2.php\"><strong>Ericsson</strong></a></li><li><a href=\"eten-phones-40.php\"><strong>Eten</strong></a></li><li><a href=\"fairphone-phones-127.php\"><strong>Fairphone</strong></a></li><li><a href=\"fujitsu_siemens-phones-50.php\"><strong>Fujitsu Siemens</strong></a></li><li><a href=\"garmin_asus-phones-65.php\"><strong>Garmin-Asus</strong></a></li><li><a href=\"gigabyte-phones-47.php\"><strong>Gigabyte</strong></a></li><li><a href=\"gionee-phones-92.php\"><strong>Gionee</strong></a></li><li><a href=\"google-phones-107.php\"><strong>Google</strong></a></li><li><a href=\"haier-phones-33.php\"><strong>Haier</strong></a></li><li><a href=\"hmd-phones-133.php\"><strong>HMD</strong></a></li><li><a href=\"honor-phones-121.php\"><strong>Honor</strong></a></li><li><a href=\"hp-phones-41.php\"><strong>HP</strong></a></li><li><a href=\"htc-phones-45.php\"><strong>HTC</strong></a></li><li><a href=\"huawei-phones-58.php\"><strong>Huawei</strong></a></li><li><a href=\"i_mate-phones-35.php\"><strong>i-mate</strong></a></li><li><a href=\"i_mobile-phones-52.php\"><strong>i-mobile</strong></a></li><li><a href=\"icemobile-phones-69.php\"><strong>Icemobile</strong></a></li><li><a href=\"infinix-phones-119.php\"><strong>Infinix</strong></a></li><li><a href=\"innostream-phones-29.php\"><strong>Innostream</strong></a></li><li><a href=\"inq-phones-60.php\"><strong>iNQ</strong></a></li><li><a href=\"intex-phones-102.php\"><strong>Intex</strong></a></li><li><a href=\"itel-phones-131.php\"><strong>itel</strong></a></li><li><a href=\"jolla-phones-84.php\"><strong>Jolla</strong></a></li><li><a href=\"karbonn-phones-83.php\"><strong>Karbonn</strong></a></li><li><a href=\"kyocera-phones-17.php\"><strong>Kyocera</strong></a></li><li><a href=\"lava-phones-94.php\"><strong>Lava</strong></a></li><li><a href=\"leeco-phones-109.php\"><strong>LeEco</strong></a></li><li><a href=\"lenovo-phones-73.php\"><strong>Lenovo</strong></a></li><li><a href=\"lg-phones-20.php\"><strong>LG</strong></a></li><li><a href=\"maxon-phones-14.php\"><strong>Maxon</strong></a></li><li><a href=\"maxwest-phones-87.php\"><strong>Maxwest</strong></a></li><li><a href=\"meizu-phones-74.php\"><strong>Meizu</strong></a></li><li><a href=\"micromax-phones-66.php\"><strong>Micromax</strong></a></li><li><a href=\"microsoft-phones-64.php\"><strong>Microsoft</strong></a></li><li><a href=\"mitac-phones-25.php\"><strong>Mitac</strong></a></li><li><a href=\"mitsubishi-phones-8.php\"><strong>Mitsubishi</strong></a></li><li><a href=\"modu-phones-63.php\"><strong>Modu</strong></a></li><li><a href=\"motorola-phones-4.php\"><strong>Motorola</strong></a></li><li><a href=\"mwg-phones-56.php\"><strong>MWg</strong></a></li><li><a href=\"nec-phones-12.php\"><strong>NEC</strong></a></li><li><a href=\"neonode-phones-22.php\"><strong>Neonode</strong></a></li><li><a href=\"niu-phones-79.php\"><strong>NIU</strong></a></li><li><a href=\"nokia-phones-1.php\"><strong>Nokia</strong></a></li><li><a href=\"nothing-phones-128.php\"><strong>Nothing</strong></a></li><li><a href=\"nvidia-phones-97.php\"><strong>Nvidia</strong></a></li><li><a href=\"o2-phones-30.php\"><strong>O2</strong></a></li><li><a href=\"oneplus-phones-95.php\"><strong>OnePlus</strong></a></li><li><a href=\"oppo-phones-82.php\"><strong>Oppo</strong></a></li><li><a href=\"orange-phones-71.php\"><strong>Orange</strong></a></li><li><a href=\"oscal-phones-134.php\"><strong>Oscal</strong></a></li><li><a href=\"oukitel-phones-132.php\"><strong>Oukitel</strong></a></li><li><a href=\"palm-phones-27.php\"><strong>Palm</strong></a></li><li><a href=\"panasonic-phones-6.php\"><strong>Panasonic</strong></a></li><li><a href=\"pantech-phones-32.php\"><strong>Pantech</strong></a></li><li><a href=\"parla-phones-81.php\"><strong>Parla</strong></a></li><li><a href=\"philips-phones-11.php\"><strong>Philips</strong></a></li><li><a href=\"plum-phones-72.php\"><strong>Plum</strong></a></li><li><a href=\"posh-phones-101.php\"><strong>Posh</strong></a></li><li><a href=\"prestigio-phones-86.php\"><strong>Prestigio</strong></a></li><li><a href=\"qmobile-phones-103.php\"><strong>QMobile</strong></a></li><li><a href=\"qtek-phones-38.php\"><strong>Qtek</strong></a></li><li><a href=\"razer-phones-117.php\"><strong>Razer</strong></a></li><li><a href=\"realme-phones-118.php\"><strong>Realme</strong></a></li><li><a href=\"sagem-phones-13.php\"><strong>Sagem</strong></a></li><li><a href=\"samsung-phones-9.php\"><strong>Samsung</strong></a></li><li><a href=\"sendo-phones-18.php\"><strong>Sendo</strong></a></li><li><a href=\"sewon-phones-26.php\"><strong>Sewon</strong></a></li><li><a href=\"sharp-phones-23.php\"><strong>Sharp</strong></a></li><li><a href=\"siemens-phones-3.php\"><strong>Siemens</strong></a></li><li><a href=\"sonim-phones-54.php\"><strong>Sonim</strong></a></li><li><a href=\"sony-phones-7.php\"><strong>Sony</strong></a></li><li><a href=\"sony_ericsson-phones-19.php\"><strong>Sony Ericsson</strong></a></li><li><a href=\"spice-phones-68.php\"><strong>Spice</strong></a></li><li><a href=\"t_mobile-phones-55.php\"><strong>T-Mobile</strong></a></li><li><a href=\"tcl-phones-123.php\"><strong>TCL</strong></a></li><li><a href=\"tecno-phones-120.php\"><strong>Tecno</strong></a></li><li><a href=\"tel_me_-phones-21.php\"><strong>Tel.Me.</strong></a></li><li><a href=\"telit-phones-16.php\"><strong>Telit</strong></a></li><li><a href=\"thuraya-phones-49.php\"><strong>Thuraya</strong></a></li><li><a href=\"toshiba-phones-44.php\"><strong>Toshiba</strong></a></li><li><a href=\"ulefone-phones-124.php\"><strong>Ulefone</strong></a></li><li><a href=\"umidigi-phones-135.php\"><strong>Umidigi</strong></a></li><li><a href=\"unnecto-phones-91.php\"><strong>Unnecto</strong></a></li><li><a href=\"vertu-phones-39.php\"><strong>Vertu</strong></a></li><li><a href=\"verykool-phones-70.php\"><strong>verykool</strong></a></li><li><a href=\"vivo-phones-98.php\"><strong>vivo</strong></a></li><li><a href=\"vk_mobile-phones-37.php\"><strong>VK Mobile</strong></a></li><li><a href=\"vodafone-phones-53.php\"><strong>Vodafone</strong></a></li><li><a href=\"wiko-phones-96.php\"><strong>Wiko</strong></a></li><li><a href=\"wnd-phones-51.php\"><strong>WND</strong></a></li><li><a href=\"xcute-phones-43.php\"><strong>XCute</strong></a></li><li><a href=\"xiaomi-phones-80.php\"><strong>Xiaomi</strong></a></li><li><a href=\"xolo-phones-85.php\"><strong>XOLO</strong></a></li><li><a href=\"yezz-phones-78.php\"><strong>Yezz</strong></a></li><li><a href=\"yota-phones-99.php\"><strong>Yota</strong></a></li><li><a href=\"yu-phones-100.php\"><strong>YU</strong></a></li><li><a href=\"zte-phones-62.php\"><strong>ZTE</strong></a></li>\n",
      "</div>\n"
     ]
    }
   ],
   "source": [
    "print(brands_list)"
   ]
  }
 ],
 "metadata": {
  "kernelspec": {
   "display_name": "base",
   "language": "python",
   "name": "python3"
  },
  "language_info": {
   "codemirror_mode": {
    "name": "ipython",
    "version": 3
   },
   "file_extension": ".py",
   "mimetype": "text/x-python",
   "name": "python",
   "nbconvert_exporter": "python",
   "pygments_lexer": "ipython3",
   "version": "3.11.5"
  }
 },
 "nbformat": 4,
 "nbformat_minor": 2
}
