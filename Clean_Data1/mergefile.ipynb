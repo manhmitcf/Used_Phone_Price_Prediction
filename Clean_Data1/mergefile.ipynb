{
 "cells": [
  {
   "cell_type": "code",
   "execution_count": 3,
   "metadata": {},
   "outputs": [],
   "source": [
    "import re\n",
    "import pandas as pd\n",
    "\n",
    "\n"
   ]
  },
  {
   "cell_type": "code",
   "execution_count": null,
   "metadata": {},
   "outputs": [],
   "source": [
    "\n",
    "# Đường dẫn tới các file CSV\n",
    "\n",
    "file_path1 = 'Clean1.csv'\n",
    "file_path2 = 'Clean2.csv'\n",
    "file_path3  ='Clean3.csv'\n",
    "file_path4  ='Clean4.csv'\n",
    "file_path5  ='Clean5.csv'\n",
    "df1 = pd.read_csv(file_path1)\n",
    "df2=pd.read_csv(file_path2)\n",
    "df3=pd.read_csv(file_path3)\n",
    "df4=pd.read_csv(file_path4)\n",
    "df5=pd.read_csv(file_path5)\n",
    "# Đọc các file CSV vào danh sách các DataFrames\n",
    "\n",
    "# Nối tất cả các DataFrames lại với nhau theo cột (axis=1)\n",
    "merged_df = pd.concat([df1, df2,df3,df4,df5], axis=0, ignore_index=True)\n",
    "\n",
    "# Sắp xếp lại các cột theo thứ tự mong muốn (giả sử các cột này có trong các DataFrames)\n",
    "\n",
    "# Hiển thị DataFrame đã nối và sắp xếp lại các cột\n",
    "print(merged_df.head())\n",
    "\n",
    "# Lưu DataFrame đã nối và sắp xếp vào một file CSV mới\n",
    "merged_df.to_csv('dataphone.csv', index=False)\n"
   ]
  },
  {
   "cell_type": "markdown",
   "metadata": {},
   "source": []
  },
  {
   "cell_type": "code",
   "execution_count": 29,
   "metadata": {},
   "outputs": [
    {
     "name": "stderr",
     "output_type": "stream",
     "text": [
      "C:\\Users\\ADMIN\\AppData\\Local\\Temp\\ipykernel_5644\\3327437141.py:38: FutureWarning: Downcasting object dtype arrays on .fillna, .ffill, .bfill is deprecated and will change in a future version. Call result.infer_objects(copy=False) instead. To opt-in to the future behavior, set `pd.set_option('future.no_silent_downcasting', True)`\n",
      "  df['new_price'] = df.groupby(['name_product', 'ram', 'rom'])['new_price'].transform(lambda x: x.fillna(x.mode()[0] if not x.mode().empty else x.mean()))\n"
     ]
    },
    {
     "data": {
      "text/plain": [
       "'updated_dataphone.csv'"
      ]
     },
     "execution_count": 29,
     "metadata": {},
     "output_type": "execute_result"
    }
   ],
   "source": [
    "# Đọc file 'dataphone.csv' từ đường dẫn file_path\n",
    "file_path = 'dataphone.csv'\n",
    "data = pd.read_csv(file_path)\n",
    "\n",
    "# Tạo DataFrame từ dữ liệu đã đọc\n",
    "df = pd.DataFrame(data)\n",
    "df['new_price'] = df['new_price'].replace(\"Not available\", pd.NA)\n",
    "df['new_price'] = df['new_price'].replace(\"Liên hệ\", pd.NA)\n",
    "df['old_price'] = df['old_price'].replace(\"Liên Hệ\", pd.NA)\n",
    "df['old_price'] = df['old_price'].replace(\"Giá Liên Hệ\", pd.NA)\n",
    "# Cập nhật hàm để xử lý thêm trường hợp 'TB' (terabyte)\n",
    "def convert_to_gb(value):\n",
    "    if isinstance(value, str):\n",
    "        value = value.lower().replace(' ', '')\n",
    "        if 'mb' in value:\n",
    "            return float(value.replace('mb', '')) / 1024  \n",
    "        elif 'gb' in value:\n",
    "            return float(value.replace('gb', '')) \n",
    "        elif 'tb' in value:\n",
    "            return float(value.replace('tb', '')) * 1024  \n",
    "    return value  \n",
    "def convert_price(value):\n",
    "    if isinstance(value, str):\n",
    "        # Sử dụng regex để loại bỏ tất cả các ký tự không phải số\n",
    "        value = re.sub(r'\\D', '', value)\n",
    "        return float(value) if value else None  # Chuyển thành float nếu có thể, ngược lại trả về None\n",
    "    return value\n",
    "\n",
    "\n",
    "# Áp dụng hàm convert_to_gb cho các cột 'ram' và 'rom'\n",
    "df['ram'] = df['ram'].apply(convert_to_gb)\n",
    "df['rom'] = df['rom'].apply(convert_to_gb)\n",
    "df['new_price'] = df['new_price'].apply(convert_price)\n",
    "df['old_price'] = df['old_price'].apply(convert_price)\n",
    "\n",
    "\n",
    "# Điền giá trị thiếu trong cột 'price' dựa trên 'phonename', 'ram', và 'rom' bằng giá trị phổ biến nhất (mode)\n",
    "df['new_price'] = df.groupby(['name_product', 'ram', 'rom'])['new_price'].transform(lambda x: x.fillna(x.mode()[0] if not x.mode().empty else x.mean()))\n",
    "df = df.drop_duplicates()\n",
    "columns_to_check = ['old_price', 'new_price', 'condition']\n",
    "\n",
    "# Lọc chỉ giữ lại các cột có tồn tại trong DataFrame\n",
    "existing_columns = [col for col in columns_to_check if col in df.columns]\n",
    "\n",
    "# Nếu tồn tại ít nhất một cột trong danh sách, thực hiện xóa các hàng có giá trị thiếu\n",
    "if existing_columns:\n",
    "    df = df.dropna(subset=existing_columns)\n",
    "# Lưu DataFrame đã cập nhật vào file mới\n",
    "new_file_path = 'updated_dataphone.csv'\n",
    "df.to_csv(new_file_path, index=False)\n",
    "\n",
    "\n",
    "new_file_path\n"
   ]
  }
 ],
 "metadata": {
  "kernelspec": {
   "display_name": "Python 3",
   "language": "python",
   "name": "python3"
  },
  "language_info": {
   "codemirror_mode": {
    "name": "ipython",
    "version": 3
   },
   "file_extension": ".py",
   "mimetype": "text/x-python",
   "name": "python",
   "nbconvert_exporter": "python",
   "pygments_lexer": "ipython3",
   "version": "3.11.4"
  }
 },
 "nbformat": 4,
 "nbformat_minor": 2
}
