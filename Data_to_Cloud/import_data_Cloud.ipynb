{
 "cells": [
  {
   "cell_type": "code",
   "execution_count": 43,
   "metadata": {},
   "outputs": [],
   "source": [
    "import pandas as pd"
   ]
  },
  {
   "cell_type": "code",
   "execution_count": 44,
   "metadata": {},
   "outputs": [],
   "source": [
    "df = pd.read_csv('updated_dataphone.csv')"
   ]
  },
  {
   "cell_type": "code",
   "execution_count": 45,
   "metadata": {},
   "outputs": [
    {
     "data": {
      "text/plain": [
       "(1226, 25)"
      ]
     },
     "execution_count": 45,
     "metadata": {},
     "output_type": "execute_result"
    }
   ],
   "source": [
    "df.shape\n"
   ]
  },
  {
   "cell_type": "code",
   "execution_count": 46,
   "metadata": {},
   "outputs": [
    {
     "name": "stdout",
     "output_type": "stream",
     "text": [
      "Data inserted successfully into the Azure SQL database.\n"
     ]
    }
   ],
   "source": [
    "import pandas as pd\n",
    "import pyodbc\n",
    "\n",
    "# Load the CSV file\n",
    "df = pd.read_csv('updated_dataphone.csv')\n",
    "\n",
    "# Replace NaN values with an empty string to ensure all fields are strings\n",
    "df.fillna('', inplace=True)\n",
    "\n",
    "# Define your connection details\n",
    "server = 'adylab.database.windows.net'\n",
    "database = 'ADY_lab'\n",
    "username = 'adylab'\n",
    "password = 'manh123456@'\n",
    "driver = '{ODBC Driver 17 for SQL Server}'\n",
    "\n",
    "# Create a connection to the Azure SQL database\n",
    "connection = pyodbc.connect(f'DRIVER={driver};SERVER={server};PORT=1433;DATABASE={database};UID={username};PWD={password}')\n",
    "cursor = connection.cursor()\n",
    "\n",
    "# Define the table creation query with all columns as NVARCHAR(MAX)\n",
    "create_table_query = '''\n",
    "IF NOT EXISTS (SELECT * FROM sys.objects WHERE object_id = OBJECT_ID(N'[dbo].[product_data_clean]') AND type in (N'U'))\n",
    "BEGIN\n",
    "    CREATE TABLE product_data_clean (\n",
    "        branch NVARCHAR(MAX),\n",
    "        name_product NVARCHAR(MAX),\n",
    "        launch_date NVARCHAR(MAX),\n",
    "        release_date NVARCHAR(MAX),\n",
    "        old_price NVARCHAR(MAX),\n",
    "        new_price NVARCHAR(MAX),\n",
    "        condition NVARCHAR(MAX),\n",
    "        ram NVARCHAR(MAX),\n",
    "        rom NVARCHAR(MAX),\n",
    "        battery_capacity NVARCHAR(MAX),\n",
    "        operating_system NVARCHAR(MAX),\n",
    "        chipset NVARCHAR(MAX),\n",
    "        screen_size NVARCHAR(MAX),\n",
    "        screen_resolution NVARCHAR(MAX),\n",
    "        videopixels NVARCHAR(MAX),\n",
    "        num_cameras NVARCHAR(MAX),\n",
    "        wide_camera NVARCHAR(MAX),\n",
    "        ultrawide_camera NVARCHAR(MAX),\n",
    "        macro_camera NVARCHAR(MAX),\n",
    "        telephoto_camera NVARCHAR(MAX),\n",
    "        cam1modules NVARCHAR(MAX),\n",
    "        cam2modules NVARCHAR(MAX),\n",
    "        water_resistance NVARCHAR(MAX),\n",
    "        nettech NVARCHAR(MAX),\n",
    "        product_link NVARCHAR(MAX)\n",
    "    )\n",
    "END\n",
    "'''\n",
    "\n",
    "# Execute the create table query\n",
    "cursor.execute(create_table_query)\n",
    "connection.commit()\n",
    "\n",
    "# Insert data from the DataFrame into the Azure SQL database\n",
    "for index, row in df.iterrows():\n",
    "    insert_query = '''\n",
    "    INSERT INTO product_data_clean (\n",
    "        branch, name_product, launch_date, release_date, old_price, new_price, condition, ram, rom, \n",
    "        battery_capacity, operating_system, chipset, screen_size, screen_resolution, videopixels, \n",
    "        num_cameras, wide_camera, ultrawide_camera, macro_camera, telephoto_camera, \n",
    "        cam1modules, cam2modules, water_resistance, nettech, product_link\n",
    "    )\n",
    "    VALUES (?, ?, ?, ?, ?, ?, ?, ?, ?, ?, ?, ?, ?, ?, ?, ?, ?, ?, ?, ?, ?, ?, ?, ?, ?)\n",
    "    '''\n",
    "    cursor.execute(insert_query, (\n",
    "        str(row['branch']), \n",
    "        str(row['name_product']), \n",
    "        str(row['launch_date']), \n",
    "        str(row['release_date']), \n",
    "        str(row['old_price']), \n",
    "        str(row['new_price']), \n",
    "        str(row['condition']), \n",
    "        str(row['ram']), \n",
    "        str(row['rom']), \n",
    "        str(row['battery_capacity']), \n",
    "        str(row['operating_system']), \n",
    "        str(row['chipset']), \n",
    "        str(row['screen_size']), \n",
    "        str(row['screen_resolution']), \n",
    "        str(row['videopixels']), \n",
    "        str(row['num_cameras']), \n",
    "        str(row['wide_camera']), \n",
    "        str(row['ultrawide_camera']), \n",
    "        str(row['macro_camera']), \n",
    "        str(row['telephoto_camera']), \n",
    "        str(row['cam1modules']), \n",
    "        str(row['cam2modules']), \n",
    "        str(row['water_resistance']), \n",
    "        str(row['nettech']), \n",
    "        str(row['product_link'])\n",
    "    ))\n",
    "\n",
    "# Commit the inserts\n",
    "connection.commit()\n",
    "\n",
    "# Close the connection\n",
    "cursor.close()\n",
    "connection.close()\n",
    "\n",
    "print(\"Data inserted successfully into the Azure SQL database.\")\n"
   ]
  },
  {
   "cell_type": "code",
   "execution_count": null,
   "metadata": {},
   "outputs": [],
   "source": []
  }
 ],
 "metadata": {
  "kernelspec": {
   "display_name": "base",
   "language": "python",
   "name": "python3"
  },
  "language_info": {
   "codemirror_mode": {
    "name": "ipython",
    "version": 3
   },
   "file_extension": ".py",
   "mimetype": "text/x-python",
   "name": "python",
   "nbconvert_exporter": "python",
   "pygments_lexer": "ipython3",
   "version": "3.11.5"
  }
 },
 "nbformat": 4,
 "nbformat_minor": 2
}
