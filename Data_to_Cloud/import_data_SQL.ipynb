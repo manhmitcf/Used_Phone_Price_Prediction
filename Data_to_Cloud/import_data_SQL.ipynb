{
 "cells": [
  {
   "cell_type": "code",
   "execution_count": 14,
   "metadata": {},
   "outputs": [],
   "source": [
    "import pandas as pd"
   ]
  },
  {
   "cell_type": "code",
   "execution_count": 15,
   "metadata": {},
   "outputs": [],
   "source": [
    "df = pd.read_csv(r'C:\\Users\\manhm\\Desktop\\Smart_Phone\\OKbro.csv')"
   ]
  },
  {
   "cell_type": "code",
   "execution_count": 16,
   "metadata": {},
   "outputs": [
    {
     "data": {
      "text/plain": [
       "Index(['Tên sản phẩm', 'Giá bán cũ', 'Giá mới', 'condition',\n",
       "       'Thời điểm ra mắt', 'Thời gian bảo hành (tháng)', 'Phiên bản CPU',\n",
       "       'RAM', 'Kích thước màn hình', 'Chip đồ hoạ (GPU)', 'Dung lượng (ROM)',\n",
       "       'Camera', 'Hỗ trợ mạng', 'Bluetooth', 'Dung lượng pin', 'OS'],\n",
       "      dtype='object')"
      ]
     },
     "execution_count": 16,
     "metadata": {},
     "output_type": "execute_result"
    }
   ],
   "source": [
    "\n",
    "df.columns\n"
   ]
  },
  {
   "cell_type": "code",
   "execution_count": 17,
   "metadata": {},
   "outputs": [
    {
     "name": "stdout",
     "output_type": "stream",
     "text": [
      "Data inserted successfully into the Azure SQL database.\n"
     ]
    }
   ],
   "source": [
    "import pandas as pd\n",
    "import pyodbc\n",
    "\n",
    "# Load the CSV file\n",
    "file_path = r'C:\\Users\\manhm\\Desktop\\Smart_Phone\\OKbro.csv'\n",
    "df = pd.read_csv(file_path)\n",
    "\n",
    "# Clean and ensure data types\n",
    "df['Giá bán cũ'] = pd.to_numeric(df['Giá bán cũ'], errors='coerce')  # Convert to numeric, invalid values to NaN\n",
    "df['Giá mới'] = pd.to_numeric(df['Giá mới'], errors='coerce')\n",
    "df['RAM'] = pd.to_numeric(df['RAM'], errors='coerce')\n",
    "df['Dung lượng (ROM)'] = pd.to_numeric(df['Dung lượng (ROM)'], errors='coerce')\n",
    "df['Dung lượng pin'] = pd.to_numeric(df['Dung lượng pin'], errors='coerce')\n",
    "\n",
    "# Replace NaN values with 0 or some appropriate default value\n",
    "df.fillna(0, inplace=True)\n",
    "\n",
    "# Define your connection details\n",
    "server = 'adylab.database.windows.net'\n",
    "database = 'ADY_lab'\n",
    "username = 'adylab'\n",
    "password = 'manh123456@'\n",
    "driver = '{ODBC Driver 17 for SQL Server}'\n",
    "\n",
    "# Create a connection to the Azure SQL database\n",
    "connection = pyodbc.connect(f'DRIVER={driver};SERVER={server};PORT=1433;DATABASE={database};UID={username};PWD={password}')\n",
    "cursor = connection.cursor()\n",
    "\n",
    "# Define the table creation query\n",
    "create_table_query = '''\n",
    "IF NOT EXISTS (SELECT * FROM sys.objects WHERE object_id = OBJECT_ID(N'[dbo].[product_data]') AND type in (N'U'))\n",
    "BEGIN\n",
    "    CREATE TABLE product_data (\n",
    "        TenSanPham NVARCHAR(MAX),\n",
    "        GiaBanCu FLOAT,\n",
    "        GiaMoi FLOAT,\n",
    "        Condition NVARCHAR(MAX),\n",
    "        ThoiDiemRaMat NVARCHAR(MAX),\n",
    "        ThoiGianBaoHanh NVARCHAR(MAX),\n",
    "        PhienBanCPU NVARCHAR(MAX),\n",
    "        RAM FLOAT,\n",
    "        KichThuocManHinh NVARCHAR(MAX),\n",
    "        ChipDoHoaGPU NVARCHAR(MAX),\n",
    "        DungLuongROM FLOAT,\n",
    "        Camera NVARCHAR(MAX),\n",
    "        HoTroMang NVARCHAR(MAX),\n",
    "        Bluetooth NVARCHAR(MAX),\n",
    "        DungLuongPin FLOAT,\n",
    "        OS NVARCHAR(MAX)\n",
    "    )\n",
    "END\n",
    "'''\n",
    "\n",
    "# Execute the create table query\n",
    "cursor.execute(create_table_query)\n",
    "connection.commit()\n",
    "\n",
    "# Insert data from the DataFrame into the Azure SQL database\n",
    "for index, row in df.iterrows():\n",
    "    insert_query = '''\n",
    "    INSERT INTO product_data (\n",
    "        TenSanPham, GiaBanCu, GiaMoi, Condition, ThoiDiemRaMat, ThoiGianBaoHanh, \n",
    "        PhienBanCPU, RAM, KichThuocManHinh, ChipDoHoaGPU, DungLuongROM, \n",
    "        Camera, HoTroMang, Bluetooth, DungLuongPin, OS\n",
    "    )\n",
    "    VALUES (?, ?, ?, ?, ?, ?, ?, ?, ?, ?, ?, ?, ?, ?, ?, ?)\n",
    "    '''\n",
    "    cursor.execute(insert_query, (\n",
    "        row['Tên sản phẩm'], \n",
    "        row['Giá bán cũ'], \n",
    "        row['Giá mới'], \n",
    "        row['condition'], \n",
    "        row['Thời điểm ra mắt'], \n",
    "        row['Thời gian bảo hành (tháng)'], \n",
    "        row['Phiên bản CPU'], \n",
    "        row['RAM'], \n",
    "        row['Kích thước màn hình'], \n",
    "        row['Chip đồ hoạ (GPU)'], \n",
    "        row['Dung lượng (ROM)'], \n",
    "        row['Camera'], \n",
    "        row['Hỗ trợ mạng'], \n",
    "        row['Bluetooth'], \n",
    "        row['Dung lượng pin'], \n",
    "        row['OS']\n",
    "    ))\n",
    "\n",
    "# Commit the inserts\n",
    "connection.commit()\n",
    "\n",
    "# Close the connection\n",
    "cursor.close()\n",
    "connection.close()\n",
    "\n",
    "print(\"Data inserted successfully into the Azure SQL database.\")\n"
   ]
  },
  {
   "cell_type": "code",
   "execution_count": null,
   "metadata": {},
   "outputs": [],
   "source": []
  }
 ],
 "metadata": {
  "kernelspec": {
   "display_name": "base",
   "language": "python",
   "name": "python3"
  },
  "language_info": {
   "codemirror_mode": {
    "name": "ipython",
    "version": 3
   },
   "file_extension": ".py",
   "mimetype": "text/x-python",
   "name": "python",
   "nbconvert_exporter": "python",
   "pygments_lexer": "ipython3",
   "version": "3.11.5"
  }
 },
 "nbformat": 4,
 "nbformat_minor": 2
}
